{
 "cells": [
  {
   "cell_type": "markdown",
   "metadata": {},
   "source": [
    "Короткий опис роботи з SQL Alchemy"
   ]
  },
  {
   "cell_type": "code",
   "execution_count": 10,
   "metadata": {},
   "outputs": [],
   "source": [
    "from sqlalchemy import Column\n",
    "from sqlalchemy import ForeignKey\n",
    "from sqlalchemy import Integer\n",
    "from sqlalchemy import String\n",
    "from sqlalchemy.orm import declarative_base\n",
    "from sqlalchemy.orm import relationship\n",
    "\n",
    "Base = declarative_base()\n",
    "\n",
    "class User(Base):\n",
    "    __tablename__ = \"user_account\"\n",
    "    id = Column(Integer, primary_key=True)\n",
    "    name = Column(String(30))\n",
    "    fullname = Column(String)\n",
    "    addresses = relationship(\n",
    "        \"Address\", back_populates=\"user\", cascade=\"all, delete-orphan\"\n",
    "    )\n",
    "    def __repr__(self):\n",
    "        return f\"User(id={self.id!r}, name={self.name!r}, fullname={self.fullname!r})\"\n",
    "\n",
    "class Address(Base):\n",
    "    __tablename__ = \"address\"\n",
    "    id = Column(Integer, primary_key=True)\n",
    "    email_address = Column(String, nullable=False)\n",
    "    user_id = Column(Integer, ForeignKey(\"user_account.id\"), nullable=False)\n",
    "    user = relationship(\"User\", back_populates=\"addresses\")\n",
    "    def __repr__(self):\n",
    "        return f\"Address(id={self.id!r}, email_address={self.email_address!r})\"\n",
    "\n",
    "from sqlalchemy import create_engine\n",
    "engine = create_engine(\"sqlite://\", echo=True, future=True)"
   ]
  },
  {
   "cell_type": "code",
   "execution_count": 12,
   "metadata": {},
   "outputs": [],
   "source": [
    "Base.metadata.create_all(engine)\n"
   ]
  },
  {
   "cell_type": "code",
   "execution_count": 14,
   "metadata": {},
   "outputs": [],
   "source": [
    "from sqlalchemy.orm import Session\n",
    "\n",
    "# Потім ми передаємо їх до бази даних за допомогою об’єкта під \n",
    "# назвою Session , який використовує Engineдля взаємодії з базою\n",
    "# даних. Метод Session.add_all()використовується тут для додавання\n",
    "# кількох об’єктів одночасно, і Session.commit()метод буде використано\n",
    "# для очищення будь-яких очікуваних змін у базі даних, а потім фіксації \n",
    "# поточної транзакції бази даних, яка завжди виконується, коли Session \n",
    "# використовується\n",
    "\n",
    "with Session(engine) as session:\n",
    "    spongebob = User(\n",
    "        name=\"spongebob\",\n",
    "        fullname=\"Spongebob Squarepants\",\n",
    "        addresses=[Address(email_address=\"spongebob@sqlalchemy.org\")],\n",
    "    )\n",
    "    sandy = User(\n",
    "        name=\"sandy\",\n",
    "        fullname=\"Sandy Cheeks\",\n",
    "        addresses=[\n",
    "            Address(email_address=\"sandy@sqlalchemy.org\"),\n",
    "            Address(email_address=\"sandy@squirrelpower.org\"),\n",
    "        ],\n",
    "    )\n",
    "    patrick = User(name=\"patrick\", fullname=\"Patrick Star\")\n",
    "    session.add_all([spongebob, sandy, patrick])\n",
    "    session.commit()\n"
   ]
  },
  {
   "cell_type": "code",
   "execution_count": 15,
   "metadata": {},
   "outputs": [
    {
     "name": "stdout",
     "output_type": "stream",
     "text": [
      "User(id=1, name='spongebob', fullname='Spongebob Squarepants')\n",
      "User(id=2, name='sandy', fullname='Sandy Cheeks')\n",
      "User(id=4, name='spongebob', fullname='Spongebob Squarepants')\n",
      "User(id=5, name='sandy', fullname='Sandy Cheeks')\n"
     ]
    }
   ],
   "source": [
    "from sqlalchemy import select\n",
    "\n",
    "session = Session(engine)\n",
    "\n",
    "stmt = select(User).where(User.name.in_([\"spongebob\", \"sandy\"]))\n",
    "\n",
    "for user in session.scalars(stmt):\n",
    "    print(user)\n"
   ]
  },
  {
   "cell_type": "code",
   "execution_count": 7,
   "metadata": {},
   "outputs": [
    {
     "name": "stdout",
     "output_type": "stream",
     "text": [
      "2022-09-15 13:24:28,907 INFO sqlalchemy.engine.Engine SELECT address.id, address.email_address, address.user_id \n",
      "FROM address JOIN user_account ON user_account.id = address.user_id \n",
      "WHERE user_account.name = ? AND address.email_address = ?\n",
      "2022-09-15 13:24:28,909 INFO sqlalchemy.engine.Engine [cached since 6.533s ago] ('sandy', 'sandy@sqlalchemy.org')\n"
     ]
    },
    {
     "data": {
      "text/plain": [
       "Address(id=2, email_address='sandy@sqlalchemy.org')"
      ]
     },
     "execution_count": 7,
     "metadata": {},
     "output_type": "execute_result"
    }
   ],
   "source": [
    "stmt = (\n",
    " select(Address)\n",
    " .join(Address.user)\n",
    " .where(User.name == \"sandy\")\n",
    " .where(Address.email_address == \"sandy@sqlalchemy.org\")\n",
    ")\n",
    "sandy_address = session.scalars(stmt).one()\n",
    "\n",
    "\n",
    "sandy_address"
   ]
  },
  {
   "cell_type": "code",
   "execution_count": 8,
   "metadata": {},
   "outputs": [
    {
     "name": "stdout",
     "output_type": "stream",
     "text": [
      "2022-09-15 13:25:56,321 INFO sqlalchemy.engine.Engine SELECT user_account.id, user_account.name, user_account.fullname \n",
      "FROM user_account \n",
      "WHERE user_account.name = ?\n",
      "2022-09-15 13:25:56,328 INFO sqlalchemy.engine.Engine [generated in 0.00740s] ('patrick',)\n",
      "2022-09-15 13:25:56,336 INFO sqlalchemy.engine.Engine SELECT address.id AS address_id, address.email_address AS address_email_address, address.user_id AS address_user_id \n",
      "FROM address \n",
      "WHERE ? = address.user_id\n",
      "2022-09-15 13:25:56,338 INFO sqlalchemy.engine.Engine [generated in 0.00234s] (3,)\n",
      "2022-09-15 13:25:56,349 INFO sqlalchemy.engine.Engine UPDATE address SET email_address=? WHERE address.id = ?\n",
      "2022-09-15 13:25:56,353 INFO sqlalchemy.engine.Engine [generated in 0.00438s] ('sandy_cheeks@sqlalchemy.org', 2)\n",
      "2022-09-15 13:25:56,356 INFO sqlalchemy.engine.Engine INSERT INTO address (email_address, user_id) VALUES (?, ?)\n",
      "2022-09-15 13:25:56,362 INFO sqlalchemy.engine.Engine [cached since 291.2s ago] ('patrickstar@sqlalchemy.org', 3)\n",
      "2022-09-15 13:25:56,364 INFO sqlalchemy.engine.Engine COMMIT\n"
     ]
    }
   ],
   "source": [
    "stmt = select(User).where(User.name == \"patrick\")\n",
    "patrick = session.scalars(stmt).one()\n",
    "\n",
    "\n",
    "patrick.addresses.append(\n",
    "    Address(email_address=\"patrickstar@sqlalchemy.org\")\n",
    ")\n",
    "\n",
    "\n",
    "sandy_address.email_address = \"sandy_cheeks@sqlalchemy.org\"\n",
    "\n",
    "session.commit()\n"
   ]
  },
  {
   "cell_type": "code",
   "execution_count": null,
   "metadata": {},
   "outputs": [],
   "source": [
    "sandy = session.get(User, 2)\n",
    "\n",
    "\n",
    "sandy.addresses.remove(sandy_address)\n"
   ]
  },
  {
   "cell_type": "code",
   "execution_count": null,
   "metadata": {},
   "outputs": [],
   "source": [
    "session.flush()\n"
   ]
  },
  {
   "cell_type": "code",
   "execution_count": null,
   "metadata": {},
   "outputs": [],
   "source": [
    "session.delete(patrick)\n"
   ]
  },
  {
   "cell_type": "markdown",
   "metadata": {},
   "source": [
    "Цілий туторіал по SQL Alchemy \n",
    "\n",
    "https://docs.sqlalchemy.org/en/14/tutorial/index.html#unified-tutorial"
   ]
  },
  {
   "cell_type": "markdown",
   "metadata": {},
   "source": [
    "Початком будь-якої програми SQLAlchemy є об’єкт під назвою Engine. Цей об’єкт діє як центральне джерело з’єднань із певною базою даних, надаючи як фабрику, так і простір зберігання, який називається пулом з’єднань для цих з’єднань з базою даних. Механізм, як правило, є глобальним об’єктом, створеним лише один раз для певного сервера бази даних і налаштованим за допомогою рядка URL-адреси, який описуватиме, як він має з’єднуватися з хостом бази даних або серверною частиною.\n",
    "\n",
    "Коли Engine, вперше повернутий create_engine(), фактично ще не намагався підключитися до бази даних; це відбувається лише в перший раз, коли його просять виконати завдання щодо бази даних. Це шаблон розробки програмного забезпечення, відомий як відкладена ініціалізація .\n",
    "\n",
    "Ми також вказали параметр create_engine.echo, який буде вказувати Engineжурналювати весь SQL, який він видає, до реєстратора Python, який записуватиме стандартний вихід. Цей прапорець є скороченим способом більш формального налаштування журналювання Python і корисний для експериментів зі сценаріями. Багато прикладів SQL включатимуть цей вихід журналу SQL під [SQL]посиланням, натиснувши яке, ви побачите повну взаємодію SQL\n"
   ]
  },
  {
   "cell_type": "code",
   "execution_count": 9,
   "metadata": {},
   "outputs": [],
   "source": [
    "from sqlalchemy import create_engine\n",
    "engine = create_engine(\"sqlite+pysqlite:///:memory:\", echo=True, future=True)"
   ]
  },
  {
   "cell_type": "code",
   "execution_count": 17,
   "metadata": {},
   "outputs": [
    {
     "name": "stdout",
     "output_type": "stream",
     "text": [
      "[('hello world',)]\n"
     ]
    }
   ],
   "source": [
    "from sqlalchemy import text\n",
    "\n",
    "with engine.connect() as conn:\n",
    "    result = conn.execute(text(\"select 'hello world'\"))\n",
    "    print(result.all())\n",
    "\n",
    "\n"
   ]
  },
  {
   "cell_type": "markdown",
   "metadata": {},
   "source": [
    "Транзакція не виконується автоматично ; коли ми хочемо зафіксувати дані, нам зазвичай потрібно викликати Connection.commit() , як ми побачимо в наступному розділі."
   ]
  },
  {
   "cell_type": "code",
   "execution_count": null,
   "metadata": {},
   "outputs": [],
   "source": [
    "with engine.connect() as conn:\n",
    "    conn.execute(text(\"CREATE TABLE some_table (x int, y int)\"))\n",
    "    conn.execute(\n",
    "        text(\"INSERT INTO some_table (x, y) VALUES (:x, :y)\"),\n",
    "        [{\"x\": 1, \"y\": 1}, {\"x\": 2, \"y\": 4}]\n",
    "    )\n",
    "    conn.commit()\n"
   ]
  },
  {
   "cell_type": "code",
   "execution_count": 22,
   "metadata": {},
   "outputs": [],
   "source": [
    "with engine.begin() as conn:\n",
    "    conn.execute(\n",
    "        text(\"INSERT INTO some_table (x, y) VALUES (:x, :y)\"),\n",
    "        [{\"x\": 6, \"y\": 8}, {\"x\": 9, \"y\": 10}]\n",
    "    )\n"
   ]
  },
  {
   "cell_type": "code",
   "execution_count": 23,
   "metadata": {},
   "outputs": [
    {
     "name": "stdout",
     "output_type": "stream",
     "text": [
      "x: 1  y: 1\n",
      "x: 2  y: 4\n",
      "x: 6  y: 8\n",
      "x: 9  y: 10\n",
      "x: 6  y: 8\n",
      "x: 9  y: 10\n"
     ]
    }
   ],
   "source": [
    "with engine.connect() as conn:\n",
    "    result = conn.execute(text(\"SELECT x, y FROM some_table\"))\n",
    "    for row in result:\n",
    "        print(f\"x: {row.x}  y: {row.y}\")\n",
    "\n",
    "\n"
   ]
  },
  {
   "cell_type": "code",
   "execution_count": 25,
   "metadata": {},
   "outputs": [
    {
     "name": "stdout",
     "output_type": "stream",
     "text": [
      "x: 2  y: 4\n",
      "x: 6  y: 8\n",
      "x: 9  y: 10\n",
      "x: 6  y: 8\n",
      "x: 9  y: 10\n"
     ]
    }
   ],
   "source": [
    "with engine.connect() as conn:\n",
    "    result = conn.execute(\n",
    "        text(\"SELECT x, y FROM some_table WHERE y > :y\"),\n",
    "        {\"y\": 2}\n",
    "    )\n",
    "    for row in result:\n",
    "       print(f\"x: {row.x}  y: {row.y}\")\n",
    "\n",
    "\n"
   ]
  },
  {
   "cell_type": "code",
   "execution_count": 27,
   "metadata": {},
   "outputs": [],
   "source": [
    "with engine.connect() as conn:\n",
    "    conn.execute(\n",
    "        text(\"INSERT INTO some_table (x, y) VALUES (:x, :y)\"),\n",
    "        [{\"x\": 11, \"y\": 12}, {\"x\": 13, \"y\": 14}]\n",
    "    )\n",
    "    conn.commit()\n"
   ]
  },
  {
   "cell_type": "code",
   "execution_count": 28,
   "metadata": {},
   "outputs": [
    {
     "name": "stdout",
     "output_type": "stream",
     "text": [
      "x: 6  y: 8\n",
      "x: 6  y: 8\n",
      "x: 9  y: 10\n",
      "x: 9  y: 10\n",
      "x: 11  y: 12\n",
      "x: 11  y: 12\n",
      "x: 13  y: 14\n",
      "x: 13  y: 14\n"
     ]
    }
   ],
   "source": [
    "stmt = text(\"SELECT x, y FROM some_table WHERE y > :y ORDER BY x, y\").bindparams(y=6)\n",
    "with engine.connect() as conn:\n",
    "    result = conn.execute(stmt)\n",
    "    for row in result:\n",
    "       print(f\"x: {row.x}  y: {row.y}\")\n",
    "\n",
    "\n"
   ]
  },
  {
   "cell_type": "code",
   "execution_count": 29,
   "metadata": {},
   "outputs": [
    {
     "name": "stdout",
     "output_type": "stream",
     "text": [
      "x: 6  y: 8\n",
      "x: 6  y: 8\n",
      "x: 9  y: 10\n",
      "x: 9  y: 10\n",
      "x: 11  y: 12\n",
      "x: 11  y: 12\n",
      "x: 13  y: 14\n",
      "x: 13  y: 14\n"
     ]
    }
   ],
   "source": [
    "from sqlalchemy.orm import Session\n",
    "\n",
    "stmt = text(\"SELECT x, y FROM some_table WHERE y > :y ORDER BY x, y\").bindparams(y=6)\n",
    "with Session(engine) as session:\n",
    "    result = session.execute(stmt)\n",
    "    for row in result:\n",
    "       print(f\"x: {row.x}  y: {row.y}\")\n",
    "\n",
    "\n"
   ]
  },
  {
   "cell_type": "code",
   "execution_count": 30,
   "metadata": {},
   "outputs": [],
   "source": [
    "with Session(engine) as session:\n",
    "    result = session.execute(\n",
    "        text(\"UPDATE some_table SET y=:y WHERE x=:x\"),\n",
    "        [{\"x\": 9, \"y\":11}, {\"x\": 13, \"y\": 15}]\n",
    "    )\n",
    "    session.commit()\n"
   ]
  },
  {
   "cell_type": "code",
   "execution_count": 35,
   "metadata": {},
   "outputs": [],
   "source": [
    "from sqlalchemy import MetaData\n",
    "metadata_obj = MetaData()"
   ]
  },
  {
   "cell_type": "code",
   "execution_count": 36,
   "metadata": {},
   "outputs": [],
   "source": [
    "from sqlalchemy import Table, Column, Integer, String\n",
    "user_table = Table(\n",
    "    \"user_account\",\n",
    "    metadata_obj,\n",
    "    Column('id', Integer, primary_key=True),\n",
    "    Column('name', String(30)),\n",
    "    Column('fullname', String)\n",
    ")"
   ]
  },
  {
   "cell_type": "markdown",
   "metadata": {},
   "source": [
    "Column- представляє стовпець у таблиці бази даних і присвоює себе Tableоб’єкту. Зазвичай Column містить назву рядка та тип об’єкта. Доступ до набору Columnоб’єктів у термінах батьківського елемента Table зазвичай здійснюється через асоціативний масив, розташований за адресою Table.c"
   ]
  },
  {
   "cell_type": "code",
   "execution_count": 37,
   "metadata": {},
   "outputs": [
    {
     "data": {
      "text/plain": [
       "['id', 'name', 'fullname']"
      ]
     },
     "execution_count": 37,
     "metadata": {},
     "output_type": "execute_result"
    }
   ],
   "source": [
    "user_table.c.name\n",
    "\n",
    "user_table.c.keys()"
   ]
  },
  {
   "cell_type": "code",
   "execution_count": 38,
   "metadata": {},
   "outputs": [
    {
     "data": {
      "text/plain": [
       "PrimaryKeyConstraint(Column('id', Integer(), table=<user_account>, primary_key=True, nullable=False))"
      ]
     },
     "execution_count": 38,
     "metadata": {},
     "output_type": "execute_result"
    }
   ],
   "source": [
    "user_table.primary_key"
   ]
  },
  {
   "cell_type": "code",
   "execution_count": 39,
   "metadata": {},
   "outputs": [],
   "source": [
    "from sqlalchemy import ForeignKey\n",
    "address_table = Table(\n",
    "    \"address\",\n",
    "    metadata_obj,\n",
    "    Column('id', Integer, primary_key=True),\n",
    "    Column('user_id', ForeignKey('user_account.id'), nullable=False),\n",
    "    Column('email_address', String, nullable=False)\n",
    ")"
   ]
  },
  {
   "cell_type": "markdown",
   "metadata": {},
   "source": [
    "У наведеній вище таблиці також міститься третій вид обмеження, яке в SQL є обмеженням «NOT NULL», указане вище за допомогою Column.nullable параметра"
   ]
  },
  {
   "cell_type": "code",
   "execution_count": 41,
   "metadata": {},
   "outputs": [],
   "source": [
    "metadata_obj.create_all(engine)\n"
   ]
  },
  {
   "cell_type": "code",
   "execution_count": 42,
   "metadata": {},
   "outputs": [],
   "source": [
    "from sqlalchemy.orm import registry\n",
    "mapper_registry = registry()"
   ]
  },
  {
   "cell_type": "code",
   "execution_count": 43,
   "metadata": {},
   "outputs": [
    {
     "data": {
      "text/plain": [
       "MetaData()"
      ]
     },
     "execution_count": 43,
     "metadata": {},
     "output_type": "execute_result"
    }
   ],
   "source": [
    "mapper_registry.metadata"
   ]
  },
  {
   "cell_type": "code",
   "execution_count": 45,
   "metadata": {},
   "outputs": [],
   "source": [
    "Base = mapper_registry.generate_base()"
   ]
  },
  {
   "cell_type": "code",
   "execution_count": 46,
   "metadata": {},
   "outputs": [],
   "source": [
    "from sqlalchemy.orm import declarative_base\n",
    "Base = declarative_base()"
   ]
  },
  {
   "cell_type": "code",
   "execution_count": 47,
   "metadata": {},
   "outputs": [],
   "source": [
    "from sqlalchemy.orm import relationship\n",
    "class User(Base):\n",
    "    __tablename__ = 'user_account'\n",
    "    id = Column(Integer, primary_key=True)\n",
    "    name = Column(String(30))\n",
    "    fullname = Column(String)\n",
    "    addresses = relationship(\"Address\", back_populates=\"user\")\n",
    "    def __repr__(self):\n",
    "       return f\"User(id={self.id!r}, name={self.name!r}, fullname={self.fullname!r})\"\n",
    "\n",
    "class Address(Base):\n",
    "    __tablename__ = 'address'\n",
    "    id = Column(Integer, primary_key=True)\n",
    "    email_address = Column(String, nullable=False)\n",
    "    user_id = Column(Integer, ForeignKey('user_account.id'))\n",
    "    user = relationship(\"User\", back_populates=\"addresses\")\n",
    "    def __repr__(self):\n",
    "        return f\"Address(id={self.id!r}, email_address={self.email_address!r})\""
   ]
  },
  {
   "cell_type": "markdown",
   "metadata": {},
   "source": [
    "ми надали метод __repr__() — це абсолютно необов’язковий метод , який суто призначений для того, щоб наші користувальницькі класи мали описове представлення рядків і не потрібні іншим чином"
   ]
  },
  {
   "cell_type": "code",
   "execution_count": 48,
   "metadata": {},
   "outputs": [
    {
     "data": {
      "text/plain": [
       "Table('user_account', MetaData(), Column('id', Integer(), table=<user_account>, primary_key=True, nullable=False), Column('name', String(length=30), table=<user_account>), Column('fullname', String(), table=<user_account>), schema=None)"
      ]
     },
     "execution_count": 48,
     "metadata": {},
     "output_type": "execute_result"
    }
   ],
   "source": [
    "User.__table__"
   ]
  },
  {
   "cell_type": "code",
   "execution_count": 49,
   "metadata": {},
   "outputs": [],
   "source": [
    "sandy = User(name=\"sandy\", fullname=\"Sandy Cheeks\")"
   ]
  },
  {
   "cell_type": "code",
   "execution_count": 50,
   "metadata": {},
   "outputs": [],
   "source": [
    "# emit CREATE statements given ORM registry\n",
    "mapper_registry.metadata.create_all(engine)\n",
    "\n",
    "# the identical MetaData object is also present on the\n",
    "# declarative base\n",
    "Base.metadata.create_all(engine)"
   ]
  },
  {
   "cell_type": "code",
   "execution_count": 51,
   "metadata": {},
   "outputs": [],
   "source": [
    "mapper_registry = registry()\n",
    "Base = mapper_registry.generate_base()\n",
    "\n",
    "class User(Base):\n",
    "    __table__ = user_table\n",
    "\n",
    "    addresses = relationship(\"Address\", back_populates=\"user\")\n",
    "\n",
    "    def __repr__(self):\n",
    "        return f\"User({self.name!r}, {self.fullname!r})\"\n",
    "\n",
    "class Address(Base):\n",
    "    __table__ = address_table\n",
    "\n",
    "    user = relationship(\"User\", back_populates=\"addresses\")\n",
    "\n",
    "    def __repr__(self):\n",
    "        return f\"Address({self.email_address!r})\""
   ]
  },
  {
   "cell_type": "code",
   "execution_count": 52,
   "metadata": {},
   "outputs": [],
   "source": [
    "some_table = Table(\"some_table\", metadata_obj, autoload_with=engine)\n"
   ]
  },
  {
   "cell_type": "code",
   "execution_count": 53,
   "metadata": {},
   "outputs": [
    {
     "data": {
      "text/plain": [
       "Table('some_table', MetaData(), Column('x', INTEGER(), table=<some_table>), Column('y', INTEGER(), table=<some_table>), schema=None)"
      ]
     },
     "execution_count": 53,
     "metadata": {},
     "output_type": "execute_result"
    }
   ],
   "source": [
    "some_table"
   ]
  },
  {
   "cell_type": "code",
   "execution_count": 54,
   "metadata": {},
   "outputs": [],
   "source": [
    "from sqlalchemy import insert\n",
    "stmt = insert(user_table).values(name='spongebob', fullname=\"Spongebob Squarepants\")"
   ]
  },
  {
   "cell_type": "code",
   "execution_count": 55,
   "metadata": {},
   "outputs": [
    {
     "name": "stdout",
     "output_type": "stream",
     "text": [
      "INSERT INTO user_account (name, fullname) VALUES (:name, :fullname)\n"
     ]
    }
   ],
   "source": [
    "print(stmt)\n"
   ]
  },
  {
   "cell_type": "code",
   "execution_count": 57,
   "metadata": {},
   "outputs": [
    {
     "data": {
      "text/plain": [
       "{'name': 'spongebob', 'fullname': 'Spongebob Squarepants'}"
      ]
     },
     "execution_count": 57,
     "metadata": {},
     "output_type": "execute_result"
    }
   ],
   "source": [
    "compiled = stmt.compile()\n",
    "compiled.params"
   ]
  },
  {
   "cell_type": "code",
   "execution_count": 58,
   "metadata": {},
   "outputs": [],
   "source": [
    "with engine.connect() as conn:\n",
    "    result = conn.execute(stmt)\n",
    "    conn.commit()\n"
   ]
  },
  {
   "cell_type": "code",
   "execution_count": 59,
   "metadata": {},
   "outputs": [
    {
     "data": {
      "text/plain": [
       "(7,)"
      ]
     },
     "execution_count": 59,
     "metadata": {},
     "output_type": "execute_result"
    }
   ],
   "source": [
    "result.inserted_primary_key"
   ]
  },
  {
   "cell_type": "code",
   "execution_count": 60,
   "metadata": {},
   "outputs": [],
   "source": [
    "with engine.connect() as conn:\n",
    "    result = conn.execute(\n",
    "        insert(user_table),\n",
    "        [\n",
    "            {\"name\": \"sandy\", \"fullname\": \"Sandy Cheeks\"},\n",
    "            {\"name\": \"patrick\", \"fullname\": \"Patrick Star\"}\n",
    "        ]\n",
    "    )\n",
    "    conn.commit()\n"
   ]
  },
  {
   "cell_type": "code",
   "execution_count": 61,
   "metadata": {},
   "outputs": [
    {
     "name": "stdout",
     "output_type": "stream",
     "text": [
      "INSERT INTO address (user_id, email_address) SELECT user_account.id, user_account.name || :name_1 AS anon_1 \n",
      "FROM user_account\n"
     ]
    }
   ],
   "source": [
    "select_stmt = select(user_table.c.id, user_table.c.name + \"@aol.com\")\n",
    "insert_stmt = insert(address_table).from_select(\n",
    "    [\"user_id\", \"email_address\"], select_stmt\n",
    ")\n",
    "print(insert_stmt)\n"
   ]
  },
  {
   "cell_type": "markdown",
   "metadata": {},
   "source": [
    "Продовжте огляд всього цього детально в документації на сайті, там розглянуто виняткові ситуації під час реалізації.\n",
    "\n",
    "https://lectureswww.readthedocs.io/6.www.sync/2.codding/9.databases/2.sqlalchemy/"
   ]
  }
 ],
 "metadata": {
  "kernelspec": {
   "display_name": "Python 3.8.10 64-bit",
   "language": "python",
   "name": "python3"
  },
  "language_info": {
   "codemirror_mode": {
    "name": "ipython",
    "version": 3
   },
   "file_extension": ".py",
   "mimetype": "text/x-python",
   "name": "python",
   "nbconvert_exporter": "python",
   "pygments_lexer": "ipython3",
   "version": "3.8.10"
  },
  "orig_nbformat": 4,
  "vscode": {
   "interpreter": {
    "hash": "916dbcbb3f70747c44a77c7bcd40155683ae19c65e1c03b4aa3499c5328201f1"
   }
  }
 },
 "nbformat": 4,
 "nbformat_minor": 2
}
