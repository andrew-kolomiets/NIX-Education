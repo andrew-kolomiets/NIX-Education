{
 "cells": [
  {
   "cell_type": "code",
   "execution_count": 1,
   "metadata": {},
   "outputs": [
    {
     "name": "stdout",
     "output_type": "stream",
     "text": [
      "<b><i>hello habr</i></b>\n"
     ]
    }
   ],
   "source": [
    "def makebold(fn):\n",
    "    def wrapped():\n",
    "        return \"<b>\" + fn() + \"</b>\"\n",
    "    return wrapped\n",
    " \n",
    "def makeitalic(fn):\n",
    "    def wrapped():\n",
    "        return \"<i>\" + fn() + \"</i>\"\n",
    "    return wrapped\n",
    " \n",
    "@makebold\n",
    "@makeitalic\n",
    "def hello():\n",
    "    return \"hello habr\"\n",
    " \n",
    "print(hello())  ## выведет <b><i>hello habr</i></b>"
   ]
  },
  {
   "cell_type": "code",
   "execution_count": 2,
   "metadata": {},
   "outputs": [
    {
     "name": "stdout",
     "output_type": "stream",
     "text": [
      "Yes!\n",
      "Yes!\n",
      "name 'shout' is not defined\n",
      "Yes!\n"
     ]
    }
   ],
   "source": [
    "def shout(word=\"yes\"):\n",
    "    return word.capitalize()+\"!\"\n",
    "\n",
    "print(shout())\n",
    "# выведет: 'Да!'\n",
    " \n",
    "# Так как функция - это объект, вы связать её с переменнной,\n",
    "# как и любой другой объект\n",
    "\n",
    "scream = shout\n",
    "\n",
    "# Заметьте, что мы не используем скобок: мы НЕ вызываем функцию \"shout\",\n",
    "# мы связываем её с переменной \"scream\". Это означает, что теперь мы\n",
    "# можем вызывать \"shout\" через \"scream\":\n",
    " \n",
    "print(scream())\n",
    "# выведет: 'Да!'\n",
    "\n",
    "# Более того, это значит, что мы можем удалить \"shout\", и функция всё ещё\n",
    "# будет доступна через переменную \"scream\"\n",
    "del shout\n",
    "\n",
    "try:\n",
    "    print(shout())\n",
    "except NameError as e:\n",
    "    print(e)\n",
    "    #outputs: \"name 'shout' is not defined\"\n",
    "\n",
    "print(scream())\n",
    "# outputs: 'Yes!'"
   ]
  },
  {
   "cell_type": "code",
   "execution_count": 3,
   "metadata": {},
   "outputs": [
    {
     "name": "stdout",
     "output_type": "stream",
     "text": [
      "да...\n",
      "name 'whisper' is not defined\n"
     ]
    }
   ],
   "source": [
    "def talk():\n",
    "    # Внутри определения функции \"talk\" мы можем определить другую...\n",
    "    def whisper(word=\"да\"):\n",
    "        return word.lower()+\"...\"\n",
    " \n",
    "    # ... и сразу же её использовать!\n",
    "    print (whisper())\n",
    "\n",
    "# Теперь, КАЖДЫЙ РАЗ при вызове \"talk\", внутри неё определяется а затем\n",
    "# и вызывается функция \"whisper\".\n",
    "talk()\n",
    "# выведет: \"да...\"\n",
    " \n",
    "# Но вне функции \"talk\" НЕ существует никакой функции \"whisper\":\n",
    "try:\n",
    "    print (whisper())\n",
    "except NameError as e:\n",
    "    print (e)\n",
    "    #выведет : \"name 'whisper' is not defined\""
   ]
  },
  {
   "cell_type": "code",
   "execution_count": 4,
   "metadata": {},
   "outputs": [
    {
     "name": "stdout",
     "output_type": "stream",
     "text": [
      "<function getTalk.<locals>.shout at 0x7f0d9ec47670>\n",
      "Да!\n",
      "да...\n"
     ]
    }
   ],
   "source": [
    "def getTalk(type=\"shout\"):\n",
    " \n",
    "    # Мы определяем функции прямо здесь\n",
    "    def shout(word=\"да\"):\n",
    "        return word.capitalize()+\"!\"\n",
    " \n",
    "    def whisper(word=\"да\") :\n",
    "        return word.lower()+\"...\"\n",
    " \n",
    "    # Затем возвращаем необходимую\n",
    "    if type == \"shout\":\n",
    "        # Заметьте, что мы НЕ используем \"()\", нам нужно не вызвать функцию,\n",
    "        # а вернуть объект функции\n",
    "        return shout\n",
    "    else:\n",
    "        return whisper\n",
    " \n",
    "# Как использовать это непонятное нечто?\n",
    "# Возьмём функцию и свяжем её с переменной\n",
    "talk = getTalk()\n",
    " \n",
    "# Как мы можем видеть, \"talk\" теперь - объект \"function\":\n",
    "print (talk)\n",
    "# выведет: <function shout at 0xb7ea817c>\n",
    " \n",
    "# Который можно вызывать, как и функцию, определённую \"обычным образом\":\n",
    "print (talk())\n",
    " \n",
    "# Если нам захочется - можно вызвать её напрямую из возвращаемого значения:\n",
    "print (getTalk(\"whisper\")())\n",
    "# выведет: да..."
   ]
  },
  {
   "cell_type": "code",
   "execution_count": null,
   "metadata": {},
   "outputs": [],
   "source": [
    "def doSomethingBefore(func):\n",
    "    print (\"Я делаю что-то ещё, перед тем как вызвать функцию, которую ты мне передал\")\n",
    "    print (func())\n",
    " \n",
    "doSomethingBefore(scream)\n",
    "#выведет:\n",
    "# Я делаю что-то ещё, перед тем как вызвать функцию, которую ты мне передал\n",
    "# Да!"
   ]
  },
  {
   "cell_type": "code",
   "execution_count": 5,
   "metadata": {},
   "outputs": [
    {
     "name": "stdout",
     "output_type": "stream",
     "text": [
      "Я простая одинокая функция, ты ведь не посмеешь меня изменять?..\n",
      "Я - код, который отработает до вызова функции\n",
      "Я простая одинокая функция, ты ведь не посмеешь меня изменять?..\n",
      "А я - код, срабатывающий после\n"
     ]
    }
   ],
   "source": [
    "# Декоратор - это функция, ожидающая ДРУГУЮ функцию в качестве параметра\n",
    "def my_shiny_new_decorator(a_function_to_decorate):\n",
    "    # Внутри себя декоратор определяет функцию-\"обёртку\".\n",
    "    # Она будет (что бы вы думали?..) обёрнута вокруг декорируемой,\n",
    "    # получая возможность исполнять произвольный код до и после неё.\n",
    "\n",
    "    def the_wrapper_around_the_original_function():\n",
    "        # Поместим здесь код, который мы хотим запускать ДО вызова\n",
    "        # оригинальной функции\n",
    "        print (\"Я - код, который отработает до вызова функции\")\n",
    " \n",
    "        # ВЫЗОВЕМ саму декорируемую функцию\n",
    "        a_function_to_decorate()\n",
    "\n",
    "        # А здесь поместим код, который мы хотим запускать ПОСЛЕ вызова\n",
    "        # оригинальной функции\n",
    "        print (\"А я - код, срабатывающий после\")\n",
    "\n",
    "    # На данный момент функция \"a_function_to_decorate\" НЕ ВЫЗЫВАЛАСЬ НИ РАЗУ\n",
    "\n",
    "    # Теперь, вернём функцию-обёртку, которая содержит в себе\n",
    "    # декорируемую функцию, и код, который необходимо выполнить до и после.\n",
    "    # Всё просто!\n",
    "    return the_wrapper_around_the_original_function\n",
    "\n",
    "# Представим теперь, что у нас есть функция, которую мы не планируем больше трогать.\n",
    "def a_stand_alone_function():\n",
    "    print (\"Я простая одинокая функция, ты ведь не посмеешь меня изменять?..\")\n",
    " \n",
    "a_stand_alone_function()\n",
    "# выведет: Я простая одинокая функция, ты ведь не посмеешь меня изменять?..\n",
    " \n",
    "# Однако, чтобы изменить её поведение, мы можем декорировать её, то есть\n",
    "# Просто передать декоратору, который обернет исходную функцию в любой код,\n",
    "# который нам потребуется, и вернёт новую, готовую к использованию функцию:\n",
    " \n",
    "a_stand_alone_function_decorated = my_shiny_new_decorator(a_stand_alone_function)\n",
    "a_stand_alone_function_decorated()\n",
    "#выведет:\n",
    "# Я - код, который отработает до вызова функции\n",
    "# Я простая одинокая функция, ты ведь не посмеешь меня изменять?..\n",
    "# А я - код, срабатывающий после"
   ]
  },
  {
   "cell_type": "code",
   "execution_count": 6,
   "metadata": {},
   "outputs": [
    {
     "name": "stdout",
     "output_type": "stream",
     "text": [
      "Я - код, который отработает до вызова функции\n",
      "Я простая одинокая функция, ты ведь не посмеешь меня изменять?..\n",
      "А я - код, срабатывающий после\n"
     ]
    }
   ],
   "source": [
    "a_stand_alone_function = my_shiny_new_decorator(a_stand_alone_function)\n",
    "a_stand_alone_function()\n",
    "#выведет:\n",
    "# Я - код, который отработает до вызова функции\n",
    "# Я простая одинокая функция, ты ведь не посмеешь меня изменять?..\n",
    "# А я - код, срабатывающий после"
   ]
  },
  {
   "cell_type": "code",
   "execution_count": 7,
   "metadata": {},
   "outputs": [
    {
     "name": "stdout",
     "output_type": "stream",
     "text": [
      "Я - код, который отработает до вызова функции\n",
      "Оставь меня в покое\n",
      "А я - код, срабатывающий после\n"
     ]
    }
   ],
   "source": [
    "@my_shiny_new_decorator\n",
    "def another_stand_alone_function():\n",
    "    print (\"Оставь меня в покое\")\n",
    " \n",
    "another_stand_alone_function()\n",
    "#выведет:\n",
    "# Я - код, который отработает до вызова функции\n",
    "# Оставь меня в покое\n",
    "# А я - код, срабатывающий после"
   ]
  }
 ],
 "metadata": {
  "kernelspec": {
   "display_name": "Python 3.8.10 64-bit",
   "language": "python",
   "name": "python3"
  },
  "language_info": {
   "codemirror_mode": {
    "name": "ipython",
    "version": 3
   },
   "file_extension": ".py",
   "mimetype": "text/x-python",
   "name": "python",
   "nbconvert_exporter": "python",
   "pygments_lexer": "ipython3",
   "version": "3.8.10"
  },
  "orig_nbformat": 4,
  "vscode": {
   "interpreter": {
    "hash": "31f2aee4e71d21fbe5cf8b01ff0e069b9275f58929596ceb00d14d90e3e16cd6"
   }
  }
 },
 "nbformat": 4,
 "nbformat_minor": 2
}
